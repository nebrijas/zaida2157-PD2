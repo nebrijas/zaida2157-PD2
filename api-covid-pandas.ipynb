{
 "cells": [
  {
   "cell_type": "markdown",
   "id": "75436287",
   "metadata": {},
   "source": [
    "## AD3 AD3: conexion API del COVID19 y análisis con Pandas"
   ]
  },
  {
   "cell_type": "code",
   "execution_count": 5,
   "id": "b19f520a",
   "metadata": {},
   "outputs": [
    {
     "ename": "SyntaxError",
     "evalue": "invalid syntax (4054669464.py, line 1)",
     "output_type": "error",
     "traceback": [
      "\u001b[1;36m  Input \u001b[1;32mIn [5]\u001b[1;36m\u001b[0m\n\u001b[1;33m    Me conecto a la api 'https://api.covid19api.com/'\u001b[0m\n\u001b[1;37m       ^\u001b[0m\n\u001b[1;31mSyntaxError\u001b[0m\u001b[1;31m:\u001b[0m invalid syntax\n"
     ]
    }
   ],
   "source": [
    "Me conecto a la api 'https://api.covid19api.com/' "
   ]
  },
  {
   "cell_type": "code",
   "execution_count": null,
   "id": "69492766",
   "metadata": {},
   "outputs": [],
   "source": [
    "!Pip "
   ]
  },
  {
   "cell_type": "code",
   "execution_count": null,
   "id": "3e244d1a",
   "metadata": {},
   "outputs": [],
   "source": []
  }
 ],
 "metadata": {
  "kernelspec": {
   "display_name": "Python 3 (ipykernel)",
   "language": "python",
   "name": "python3"
  },
  "language_info": {
   "codemirror_mode": {
    "name": "ipython",
    "version": 3
   },
   "file_extension": ".py",
   "mimetype": "text/x-python",
   "name": "python",
   "nbconvert_exporter": "python",
   "pygments_lexer": "ipython3",
   "version": "3.9.12"
  }
 },
 "nbformat": 4,
 "nbformat_minor": 5
}
